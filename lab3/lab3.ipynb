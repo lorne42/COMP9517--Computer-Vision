{
 "cells": [
  {
   "cell_type": "code",
   "execution_count": 5,
   "id": "682c0b80",
   "metadata": {},
   "outputs": [
    {
     "name": "stdout",
     "output_type": "stream",
     "text": [
      "Unique labels: [ 0  1  2  3  4  5  6  7  8  9 10 11 12 13 14]\n",
      "Counts: [1000 1000 1000 1000 1000 1000 1000 1000 1000 1000 1000 1000 1000 1000\n",
      " 1000]\n",
      "Training set class distribution: [334 333 333 333 333 334 333 333 333 334 333 334 333 334 333]\n",
      "Test set class distribution: [66 67 67 67 67 66 67 67 67 66 67 66 67 66 67]\n"
     ]
    }
   ],
   "source": [
    "#step 3 and step 4\n",
    "import numpy as np\n",
    "import pandas as pd\n",
    "from sklearn.model_selection import train_test_split\n",
    "from skimage.io import imread\n",
    "from skimage.transform import resize\n",
    "import os\n",
    "from sklearn.neighbors import KNeighborsClassifier\n",
    "from sklearn.tree import DecisionTreeClassifier\n",
    "from sklearn.linear_model import SGDClassifier\n",
    "from sklearn.metrics import accuracy_score, precision_score, recall_score, f1_score, confusion_matrix\n",
    "\n",
    "# Read CSV file\n",
    "data_dir = './data/data/'  # Replace with your image directory path\n",
    "csv_file = './chinese_mnist.csv'  # Replace with your CSV file path\n",
    "df = pd.read_csv(csv_file)\n",
    "\n",
    "# Load image data\n",
    "images = []\n",
    "labels = df['character'].values  # Get labels and convert to NumPy array\n",
    "\n",
    "for _, row in df.iterrows():\n",
    "    # Construct filename based on suite_id, sample_id, and code\n",
    "    filename = f\"input_{row['suite_id']}_{row['sample_id']}_{row['code']}.jpg\"\n",
    "    img_path = os.path.join(data_dir, filename)\n",
    "\n",
    "    if os.path.exists(img_path):\n",
    "        image = imread(img_path)\n",
    "        # step 4 Read and resize image to 64x64 pixels\n",
    "        image = resize(image, (64, 64))\n",
    "        images.append(image)\n",
    "    else:\n",
    "        print(f\"Image {img_path} not found.\")\n",
    "\n",
    "images = np.array(images)\n",
    "labels = np.array(labels)\n",
    "label_map = {char: idx for idx, char in enumerate(np.unique(labels))}\n",
    "labels = np.array([label_map[char] for char in labels])\n",
    "unique_labels, counts = np.unique(labels, return_counts=True)\n",
    "print(f\"Unique labels: {unique_labels}\")\n",
    "print(f\"Counts: {counts}\")\n",
    "\n",
    "# Flatten image data to fit classifier input\n",
    "n_samples, height, width = images.shape\n",
    "X = images.reshape((n_samples, height * width))\n",
    "\n",
    "# Use train_test_split for stratified sampling\n",
    "X_train, X_test, y_train, y_test = train_test_split(\n",
    "    X, labels,\n",
    "    train_size=5000,\n",
    "    test_size=1000,\n",
    "    stratify=labels,\n",
    "    random_state=42\n",
    ")\n",
    "\n",
    "# Validate number of each class\n",
    "train_counts = np.bincount(y_train)\n",
    "test_counts = np.bincount(y_test)\n",
    "print(f\"Training set class distribution: {train_counts}\")\n",
    "print(f\"Test set class distribution: {test_counts}\")"
   ]
  },
  {
   "cell_type": "code",
   "execution_count": 6,
   "id": "1cd0c431",
   "metadata": {},
   "outputs": [
    {
     "name": "stdout",
     "output_type": "stream",
     "text": [
      "KNN Classifier: KNeighborsClassifier(n_neighbors=3)\n",
      "Decision Tree Classifier: DecisionTreeClassifier()\n",
      "SGD Classifier: SGDClassifier(max_iter=250)\n"
     ]
    }
   ],
   "source": [
    "# step 5\n",
    "# Initialize KNN classifier\n",
    "knn_classifier = KNeighborsClassifier(n_neighbors=3)\n",
    "\n",
    "# Initialize Decision Tree classifier\n",
    "dt_classifier = DecisionTreeClassifier()\n",
    "\n",
    "# Initialize SGD classifier\n",
    "sgd_classifier = SGDClassifier(max_iter=250)\n",
    "\n",
    "# Print classifier objects to ensure parameters are set correctly\n",
    "print(\"KNN Classifier:\", knn_classifier)\n",
    "print(\"Decision Tree Classifier:\", dt_classifier)\n",
    "print(\"SGD Classifier:\", sgd_classifier)"
   ]
  },
  {
   "cell_type": "code",
   "execution_count": 7,
   "id": "98607ffe",
   "metadata": {},
   "outputs": [
    {
     "data": {
      "text/html": [
       "<style>#sk-container-id-1 {color: black;}#sk-container-id-1 pre{padding: 0;}#sk-container-id-1 div.sk-toggleable {background-color: white;}#sk-container-id-1 label.sk-toggleable__label {cursor: pointer;display: block;width: 100%;margin-bottom: 0;padding: 0.3em;box-sizing: border-box;text-align: center;}#sk-container-id-1 label.sk-toggleable__label-arrow:before {content: \"▸\";float: left;margin-right: 0.25em;color: #696969;}#sk-container-id-1 label.sk-toggleable__label-arrow:hover:before {color: black;}#sk-container-id-1 div.sk-estimator:hover label.sk-toggleable__label-arrow:before {color: black;}#sk-container-id-1 div.sk-toggleable__content {max-height: 0;max-width: 0;overflow: hidden;text-align: left;background-color: #f0f8ff;}#sk-container-id-1 div.sk-toggleable__content pre {margin: 0.2em;color: black;border-radius: 0.25em;background-color: #f0f8ff;}#sk-container-id-1 input.sk-toggleable__control:checked~div.sk-toggleable__content {max-height: 200px;max-width: 100%;overflow: auto;}#sk-container-id-1 input.sk-toggleable__control:checked~label.sk-toggleable__label-arrow:before {content: \"▾\";}#sk-container-id-1 div.sk-estimator input.sk-toggleable__control:checked~label.sk-toggleable__label {background-color: #d4ebff;}#sk-container-id-1 div.sk-label input.sk-toggleable__control:checked~label.sk-toggleable__label {background-color: #d4ebff;}#sk-container-id-1 input.sk-hidden--visually {border: 0;clip: rect(1px 1px 1px 1px);clip: rect(1px, 1px, 1px, 1px);height: 1px;margin: -1px;overflow: hidden;padding: 0;position: absolute;width: 1px;}#sk-container-id-1 div.sk-estimator {font-family: monospace;background-color: #f0f8ff;border: 1px dotted black;border-radius: 0.25em;box-sizing: border-box;margin-bottom: 0.5em;}#sk-container-id-1 div.sk-estimator:hover {background-color: #d4ebff;}#sk-container-id-1 div.sk-parallel-item::after {content: \"\";width: 100%;border-bottom: 1px solid gray;flex-grow: 1;}#sk-container-id-1 div.sk-label:hover label.sk-toggleable__label {background-color: #d4ebff;}#sk-container-id-1 div.sk-serial::before {content: \"\";position: absolute;border-left: 1px solid gray;box-sizing: border-box;top: 0;bottom: 0;left: 50%;z-index: 0;}#sk-container-id-1 div.sk-serial {display: flex;flex-direction: column;align-items: center;background-color: white;padding-right: 0.2em;padding-left: 0.2em;position: relative;}#sk-container-id-1 div.sk-item {position: relative;z-index: 1;}#sk-container-id-1 div.sk-parallel {display: flex;align-items: stretch;justify-content: center;background-color: white;position: relative;}#sk-container-id-1 div.sk-item::before, #sk-container-id-1 div.sk-parallel-item::before {content: \"\";position: absolute;border-left: 1px solid gray;box-sizing: border-box;top: 0;bottom: 0;left: 50%;z-index: -1;}#sk-container-id-1 div.sk-parallel-item {display: flex;flex-direction: column;z-index: 1;position: relative;background-color: white;}#sk-container-id-1 div.sk-parallel-item:first-child::after {align-self: flex-end;width: 50%;}#sk-container-id-1 div.sk-parallel-item:last-child::after {align-self: flex-start;width: 50%;}#sk-container-id-1 div.sk-parallel-item:only-child::after {width: 0;}#sk-container-id-1 div.sk-dashed-wrapped {border: 1px dashed gray;margin: 0 0.4em 0.5em 0.4em;box-sizing: border-box;padding-bottom: 0.4em;background-color: white;}#sk-container-id-1 div.sk-label label {font-family: monospace;font-weight: bold;display: inline-block;line-height: 1.2em;}#sk-container-id-1 div.sk-label-container {text-align: center;}#sk-container-id-1 div.sk-container {/* jupyter's `normalize.less` sets `[hidden] { display: none; }` but bootstrap.min.css set `[hidden] { display: none !important; }` so we also need the `!important` here to be able to override the default hidden behavior on the sphinx rendered scikit-learn.org. See: https://github.com/scikit-learn/scikit-learn/issues/21755 */display: inline-block !important;position: relative;}#sk-container-id-1 div.sk-text-repr-fallback {display: none;}</style><div id=\"sk-container-id-1\" class=\"sk-top-container\"><div class=\"sk-text-repr-fallback\"><pre>SGDClassifier(max_iter=250)</pre><b>In a Jupyter environment, please rerun this cell to show the HTML representation or trust the notebook. <br />On GitHub, the HTML representation is unable to render, please try loading this page with nbviewer.org.</b></div><div class=\"sk-container\" hidden><div class=\"sk-item\"><div class=\"sk-estimator sk-toggleable\"><input class=\"sk-toggleable__control sk-hidden--visually\" id=\"sk-estimator-id-1\" type=\"checkbox\" checked><label for=\"sk-estimator-id-1\" class=\"sk-toggleable__label sk-toggleable__label-arrow\">SGDClassifier</label><div class=\"sk-toggleable__content\"><pre>SGDClassifier(max_iter=250)</pre></div></div></div></div></div>"
      ],
      "text/plain": [
       "SGDClassifier(max_iter=250)"
      ]
     },
     "execution_count": 7,
     "metadata": {},
     "output_type": "execute_result"
    }
   ],
   "source": [
    "# step 6\n",
    "# Fit KNN classifier to training data\n",
    "knn_classifier.fit(X_train, y_train)\n",
    "\n",
    "# Fit Decision Tree classifier to training data\n",
    "dt_classifier.fit(X_train, y_train)\n",
    "\n",
    "# Fit SGD classifier to training data\n",
    "sgd_classifier.fit(X_train, y_train)"
   ]
  },
  {
   "cell_type": "code",
   "execution_count": 8,
   "id": "a847f245",
   "metadata": {},
   "outputs": [],
   "source": [
    "# step 7\n",
    "# Define function to evaluate model performance\n",
    "def evaluate_model(classifier, X_test, y_test):\n",
    "    # Predict test data\n",
    "    y_pred = classifier.predict(X_test)\n",
    "\n",
    "    # Calculate various evaluation metrics\n",
    "    accuracy = accuracy_score(y_test, y_pred)\n",
    "    precision = precision_score(y_test, y_pred, average='weighted')\n",
    "    recall = recall_score(y_test, y_pred, average='weighted')\n",
    "    f1 = f1_score(y_test, y_pred, average='weighted')\n",
    "    cm = confusion_matrix(y_test, y_pred)\n",
    "\n",
    "    return accuracy, precision, recall, f1, cm\n",
    "\n",
    "# Evaluate KNN classifier\n",
    "knn_accuracy, knn_precision, knn_recall, knn_f1, knn_cm = evaluate_model(knn_classifier, X_test, y_test)\n",
    "\n",
    "# Evaluate Decision Tree classifier\n",
    "dt_accuracy, dt_precision, dt_recall, dt_f1, dt_cm = evaluate_model(dt_classifier, X_test, y_test)\n",
    "\n",
    "# Evaluate SGD classifier\n",
    "sgd_accuracy, sgd_precision, sgd_recall, sgd_f1, sgd_cm = evaluate_model(sgd_classifier, X_test, y_test)"
   ]
  },
  {
   "cell_type": "code",
   "execution_count": 9,
   "id": "9c5872dc",
   "metadata": {},
   "outputs": [
    {
     "name": "stdout",
     "output_type": "stream",
     "text": [
      "KNN Classifier Performance:\n",
      "Accuracy: 0.351\n",
      "Precision: 0.5442695128527733\n",
      "Recall: 0.351\n",
      "F1 Score: 0.3642068406411239\n",
      "Confusion Matrix:\n",
      " [[61  0  0  0  0  4  0  0  0  1  0  0  0  0  0]\n",
      " [36 11  0  0  3  7  0  1  2  2  4  1  0  0  0]\n",
      " [30  0 25  0  1  2  2  0  1  4  1  0  0  1  0]\n",
      " [32  0  0 17  0 18  0  0  0  0  0  0  0  0  0]\n",
      " [23  6  4  2 19  1  1  4  0  3  2  2  0  0  0]\n",
      " [35  0  0  4  0 27  0  0  0  0  0  0  0  0  0]\n",
      " [15  5  7 15  3 16  6  0  0  0  0  0  0  0  0]\n",
      " [35  7  4  1  2  5  1 11  0  0  1  0  0  0  0]\n",
      " [13  0  0  0  1  0  1  0 50  1  1  0  0  0  0]\n",
      " [47  1  1  1  1  3  0  0  2 10  0  0  0  0  0]\n",
      " [24  0  1  0  0  1  1  0  0  0 38  2  0  0  0]\n",
      " [24  1  1  2  2  4  0  0  0  1 16 15  0  0  0]\n",
      " [26  1  3  9  0 12  0  0  0  2  0  1 12  1  0]\n",
      " [16  1  9  6  2  6  3  0  0  1  6  1  0 15  0]\n",
      " [10  2  8  0  1  0  0  1  1  5  0  4  1  0 34]]\n",
      "\n",
      "\n",
      "Decision Tree Classifier Performance:\n",
      "Accuracy: 0.257\n",
      "Precision: 0.262919855077149\n",
      "Recall: 0.257\n",
      "F1 Score: 0.25828155240867784\n",
      "Confusion Matrix:\n",
      " [[44  1  0  4  0 11  1  0  2  0  1  0  2  0  0]\n",
      " [ 2 14  5  5  6  2  2  5  5  3  5  4  3  5  1]\n",
      " [ 0  2 12  2  4  3  5  3  6  8  4  3  2 12  1]\n",
      " [ 1  5  3 12  6  9  2  5  2  8  2  6  4  2  0]\n",
      " [ 3 11  5  2 10  2  7  4  4  2  3  5  3  4  2]\n",
      " [ 8  4  4  5  5 19  3  2  8  2  2  3  1  0  0]\n",
      " [ 0  2 10  2  3  3 12  5  4  3  3  3  5  8  4]\n",
      " [ 1  6  3  6  6  3  1 14  7  6  1  4  4  2  3]\n",
      " [ 4  2  3 11  4  6  1  3 21  3  3  0  1  4  1]\n",
      " [ 0  8  6  4  8  3  0  5  6 10  1  8  3  3  1]\n",
      " [ 2  2  3  1  1  1  3  0  1  6 21 21  4  0  1]\n",
      " [ 2  0  4  5  3  6  1  0  2  7  8 19  1  6  2]\n",
      " [ 1  6  7  0  3  2  2  7  0  5  2  6 13  5  8]\n",
      " [ 1  3  7  1  4  3  5  2  2 10  3  4 10 10  1]\n",
      " [ 0  2  5  0  4  0  3  1  1  4  4  2  7  8 26]]\n",
      "\n",
      "\n",
      "SGD Classifier Performance:\n",
      "Accuracy: 0.41\n",
      "Precision: 0.4057390045204961\n",
      "Recall: 0.41\n",
      "F1 Score: 0.3990664769163475\n",
      "Confusion Matrix:\n",
      " [[49  0  0  6  0  4  0  1  2  4  0  0  0  0  0]\n",
      " [ 4 23  2  6  3  2  4  5  3  4  4  2  4  0  1]\n",
      " [ 3  5 14  5  4  1  3  3  2  8  8  0  1  9  1]\n",
      " [ 2  1  1 28  2 10  6  4  2  7  1  3  0  0  0]\n",
      " [ 0 11  3  3 15  1  9 11  1  8  1  1  2  1  0]\n",
      " [ 9  1  0 14  0 17  4  5  4  7  1  2  1  1  0]\n",
      " [ 0  2  3  5  1  2 40  1  0  1  2  1  2  5  2]\n",
      " [ 1  5  4  3  3  1  4 25  2  7  3  3  4  1  1]\n",
      " [ 4  2  0  3  0  3  2  8 37  3  2  2  1  0  0]\n",
      " [ 4  3  1  7  3  2  1  8  3 22  2  6  4  0  0]\n",
      " [ 9  0  4  0  1  0  1  1  0  1 39  3  1  3  4]\n",
      " [ 1  6  2  2  5  2  4  6  0  5 10 14  5  2  2]\n",
      " [ 3  0  1  0  2  0  1 10  1  5  5  1 33  3  2]\n",
      " [ 0  5  5  2  4  0 14  2  1  0  9  3  8  8  5]\n",
      " [ 0  0  2  2  2  0  4  4  0  3  2  0  0  2 46]]\n"
     ]
    }
   ],
   "source": [
    "# step 8\n",
    "# Print evaluation results\n",
    "print(\"KNN Classifier Performance:\")\n",
    "print(\"Accuracy:\", knn_accuracy)\n",
    "print(\"Precision:\", knn_precision)\n",
    "print(\"Recall:\", knn_recall)\n",
    "print(\"F1 Score:\", knn_f1)\n",
    "print(\"Confusion Matrix:\\n\", knn_cm)\n",
    "print(\"\\n\")\n",
    "\n",
    "print(\"Decision Tree Classifier Performance:\")\n",
    "print(\"Accuracy:\", dt_accuracy)\n",
    "print(\"Precision:\", dt_precision)\n",
    "print(\"Recall:\", dt_recall)\n",
    "print(\"F1 Score:\", dt_f1)\n",
    "print(\"Confusion Matrix:\\n\", dt_cm)\n",
    "print(\"\\n\")\n",
    "\n",
    "print(\"SGD Classifier Performance:\")\n",
    "print(\"Accuracy:\", sgd_accuracy)\n",
    "print(\"Precision:\", sgd_precision)\n",
    "print(\"Recall:\", sgd_recall)\n",
    "print(\"F1 Score:\", sgd_f1)\n",
    "print(\"Confusion Matrix:\\n\", sgd_cm)"
   ]
  },
  {
   "cell_type": "code",
   "execution_count": null,
   "id": "bdae78ee",
   "metadata": {},
   "outputs": [],
   "source": []
  }
 ],
 "metadata": {
  "kernelspec": {
   "display_name": "Python 3 (ipykernel)",
   "language": "python",
   "name": "python3"
  },
  "language_info": {
   "codemirror_mode": {
    "name": "ipython",
    "version": 3
   },
   "file_extension": ".py",
   "mimetype": "text/x-python",
   "name": "python",
   "nbconvert_exporter": "python",
   "pygments_lexer": "ipython3",
   "version": "3.11.4"
  }
 },
 "nbformat": 4,
 "nbformat_minor": 5
}
